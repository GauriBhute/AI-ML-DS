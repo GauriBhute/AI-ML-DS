{
 "cells": [
  {
   "cell_type": "code",
   "execution_count": 1,
   "metadata": {},
   "outputs": [],
   "source": [
    "import numpy as np \n",
    "import pandas as pd\n"
   ]
  },
  {
   "cell_type": "code",
   "execution_count": 2,
   "metadata": {},
   "outputs": [
    {
     "data": {
      "text/html": [
       "<div>\n",
       "<style scoped>\n",
       "    .dataframe tbody tr th:only-of-type {\n",
       "        vertical-align: middle;\n",
       "    }\n",
       "\n",
       "    .dataframe tbody tr th {\n",
       "        vertical-align: top;\n",
       "    }\n",
       "\n",
       "    .dataframe thead th {\n",
       "        text-align: right;\n",
       "    }\n",
       "</style>\n",
       "<table border=\"1\" class=\"dataframe\">\n",
       "  <thead>\n",
       "    <tr style=\"text-align: right;\">\n",
       "      <th></th>\n",
       "      <th>price</th>\n",
       "      <th>sqft_living</th>\n",
       "      <th>bedrooms</th>\n",
       "      <th>bathrooms</th>\n",
       "      <th>floors</th>\n",
       "    </tr>\n",
       "  </thead>\n",
       "  <tbody>\n",
       "    <tr>\n",
       "      <th>0</th>\n",
       "      <td>221900</td>\n",
       "      <td>1180</td>\n",
       "      <td>3</td>\n",
       "      <td>1.00</td>\n",
       "      <td>1.0</td>\n",
       "    </tr>\n",
       "    <tr>\n",
       "      <th>1</th>\n",
       "      <td>538000</td>\n",
       "      <td>2570</td>\n",
       "      <td>3</td>\n",
       "      <td>2.25</td>\n",
       "      <td>2.0</td>\n",
       "    </tr>\n",
       "    <tr>\n",
       "      <th>2</th>\n",
       "      <td>180000</td>\n",
       "      <td>770</td>\n",
       "      <td>2</td>\n",
       "      <td>1.00</td>\n",
       "      <td>1.0</td>\n",
       "    </tr>\n",
       "    <tr>\n",
       "      <th>3</th>\n",
       "      <td>604000</td>\n",
       "      <td>1960</td>\n",
       "      <td>4</td>\n",
       "      <td>3.00</td>\n",
       "      <td>1.0</td>\n",
       "    </tr>\n",
       "    <tr>\n",
       "      <th>4</th>\n",
       "      <td>510000</td>\n",
       "      <td>1680</td>\n",
       "      <td>3</td>\n",
       "      <td>2.00</td>\n",
       "      <td>1.0</td>\n",
       "    </tr>\n",
       "  </tbody>\n",
       "</table>\n",
       "</div>"
      ],
      "text/plain": [
       "    price  sqft_living  bedrooms  bathrooms  floors\n",
       "0  221900         1180         3       1.00     1.0\n",
       "1  538000         2570         3       2.25     2.0\n",
       "2  180000          770         2       1.00     1.0\n",
       "3  604000         1960         4       3.00     1.0\n",
       "4  510000         1680         3       2.00     1.0"
      ]
     },
     "execution_count": 2,
     "metadata": {},
     "output_type": "execute_result"
    }
   ],
   "source": [
    "data = pd.read_excel(\"Linear Regression.xlsx\")\n",
    "data.head()"
   ]
  },
  {
   "cell_type": "code",
   "execution_count": 8,
   "metadata": {},
   "outputs": [
    {
     "name": "stdout",
     "output_type": "stream",
     "text": [
      "       sqft_living\n",
      "0             1180\n",
      "1             2570\n",
      "2              770\n",
      "3             1960\n",
      "4             1680\n",
      "5             5420\n",
      "6             1715\n",
      "7             1060\n",
      "8             1780\n",
      "9             1890\n",
      "10            3560\n",
      "11            1160\n",
      "12            1430\n",
      "13            1370\n",
      "14            1810\n",
      "15            2950\n",
      "16            1890\n",
      "17            1600\n",
      "18            1200\n",
      "19            1250\n",
      "20            1620\n",
      "21            3050\n",
      "22            2270\n",
      "23            1070\n",
      "24            2450\n",
      "25            1710\n",
      "26            2450\n",
      "27            1400\n",
      "28            1520\n",
      "29            2570\n",
      "...            ...\n",
      "21583          710\n",
      "21584         1260\n",
      "21585         1870\n",
      "21586         1430\n",
      "21587         1520\n",
      "21588         1210\n",
      "21589         2540\n",
      "21590         4910\n",
      "21591         2770\n",
      "21592         1190\n",
      "21593         4170\n",
      "21594         2500\n",
      "21595         1530\n",
      "21596         3600\n",
      "21597         3410\n",
      "21598         3118\n",
      "21599         3990\n",
      "21600         4470\n",
      "21601         1425\n",
      "21602         1500\n",
      "21603         2270\n",
      "21604         1490\n",
      "21605         2520\n",
      "21606         3510\n",
      "21607         1310\n",
      "21608         1530\n",
      "21609         2310\n",
      "21610         1020\n",
      "21611         1600\n",
      "21612         1020\n",
      "\n",
      "[21613 rows x 1 columns]\n",
      "         price\n",
      "0       221900\n",
      "1       538000\n",
      "2       180000\n",
      "3       604000\n",
      "4       510000\n",
      "5      1225000\n",
      "6       257500\n",
      "7       291850\n",
      "8       229500\n",
      "9       323000\n",
      "10      662500\n",
      "11      468000\n",
      "12      310000\n",
      "13      400000\n",
      "14      530000\n",
      "15      650000\n",
      "16      395000\n",
      "17      485000\n",
      "18      189000\n",
      "19      230000\n",
      "20      385000\n",
      "21     2000000\n",
      "22      285000\n",
      "23      252700\n",
      "24      329000\n",
      "25      233000\n",
      "26      937000\n",
      "27      667000\n",
      "28      438000\n",
      "29      719000\n",
      "...        ...\n",
      "21583   399950\n",
      "21584   380000\n",
      "21585   270000\n",
      "21586   505000\n",
      "21587   385000\n",
      "21588   414500\n",
      "21589   347500\n",
      "21590  1222500\n",
      "21591   572000\n",
      "21592   475000\n",
      "21593  1088000\n",
      "21594   350000\n",
      "21595   520000\n",
      "21596   679950\n",
      "21597  1575000\n",
      "21598   541800\n",
      "21599   810000\n",
      "21600  1537000\n",
      "21601   467000\n",
      "21602   224000\n",
      "21603   507250\n",
      "21604   429000\n",
      "21605   610685\n",
      "21606  1007500\n",
      "21607   475000\n",
      "21608   360000\n",
      "21609   400000\n",
      "21610   402101\n",
      "21611   400000\n",
      "21612   325000\n",
      "\n",
      "[21613 rows x 1 columns]\n"
     ]
    }
   ],
   "source": [
    "x = data.iloc[:, 1:2]\n",
    "y = data.iloc[:, 0:1]\n",
    "print(x)\n",
    "print(y)"
   ]
  },
  {
   "cell_type": "code",
   "execution_count": 26,
   "metadata": {},
   "outputs": [
    {
     "name": "stdout",
     "output_type": "stream",
     "text": [
      "(16209, 1) (16209, 1) (5404, 1) (5404, 1)\n"
     ]
    }
   ],
   "source": [
    "from sklearn.model_selection import train_test_split\n",
    "x_train, x_test, y_train, y_test = train_test_split(x, y, test_size = 0.25, random_state = 0)\n",
    "print(x_train.shape, y_train.shape, x_test.shape, y_test.shape)"
   ]
  },
  {
   "cell_type": "code",
   "execution_count": 32,
   "metadata": {},
   "outputs": [],
   "source": [
    "from sklearn.linear_model import LinearRegression\n",
    "lin_reg = LinearRegression(normalize = True)\n",
    "lin_reg.fit(x_train, y_train)\n",
    "ypred = lin_reg.predict(x_test)"
   ]
  },
  {
   "cell_type": "code",
   "execution_count": 33,
   "metadata": {},
   "outputs": [
    {
     "name": "stdout",
     "output_type": "stream",
     "text": [
      "0.4830157733869873\n",
      "262061.9900377967\n"
     ]
    }
   ],
   "source": [
    "from sklearn.metrics import r2_score, mean_squared_error\n",
    "print(r2_score(y_test, ypred))\n",
    "print(np.sqrt(mean_squared_error(y_test, ypred)))"
   ]
  },
  {
   "cell_type": "code",
   "execution_count": 29,
   "metadata": {},
   "outputs": [
    {
     "data": {
      "image/png": "[encoded data removed]",
      "text/plain": [
       "<Figure size 432x288 with 1 Axes>"
      ]
     },
     "metadata": {
      "needs_background": "light"
     },
     "output_type": "display_data"
    }
   ],
   "source": [
    "import matplotlib.pyplot as plt\n",
    "plt.scatter(x_train, y_train, color = \"red\")\n",
    "plt.plot(x_test, ypred, color = 'green')\n",
    "plt.scatter(x_test, y_test, color= 'blue')\n",
    "plt.show()"
   ]
  },
  {
   "cell_type": "code",
   "execution_count": 34,
   "metadata": {},
   "outputs": [
    {
     "data": {
      "text/plain": [
       "<matplotlib.axes._subplots.AxesSubplot at 0x191f06bfef0>"
      ]
     },
     "execution_count": 34,
     "metadata": {},
     "output_type": "execute_result"
    },
    {
     "data": {
      "image/png": "[encoded data removed]",
      "text/plain": [
       "<Figure size 432x288 with 1 Axes>"
      ]
     },
     "metadata": {
      "needs_background": "light"
     },
     "output_type": "display_data"
    }
   ],
   "source": [
    "data.boxplot()"
   ]
  },
  {
   "cell_type": "code",
   "execution_count": null,
   "metadata": {},
   "outputs": [],
   "source": []
  }
 ],
 "metadata": {
  "kernelspec": {
   "display_name": "Python 3",
   "language": "python",
   "name": "python3"
  },
  "language_info": {
   "codemirror_mode": {
    "name": "ipython",
    "version": 3
   },
   "file_extension": ".py",
   "mimetype": "text/x-python",
   "name": "python",
   "nbconvert_exporter": "python",
   "pygments_lexer": "ipython3",
   "version": "3.7.3"
  }
 },
 "nbformat": 4,
 "nbformat_minor": 2
}
