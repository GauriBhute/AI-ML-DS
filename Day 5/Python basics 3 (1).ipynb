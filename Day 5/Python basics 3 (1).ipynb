{
 "cells": [
  {
   "cell_type": "markdown",
   "metadata": {},
   "source": [
    "Question 1 :\n",
    "Write a Python program to find the first 20 non-even prime natural numbers."
   ]
  },
  {
   "cell_type": "code",
   "execution_count": 1,
   "metadata": {},
   "outputs": [
    {
     "name": "stdout",
     "output_type": "stream",
     "text": [
      "[3, 5, 7, 11, 13, 17, 19, 23, 29, 31, 37, 41, 43, 47, 53, 59, 61, 67, 71, 73]\n"
     ]
    }
   ],
   "source": [
    "answer = []\n",
    "for num in range(3, 100):\n",
    "    if(len(answer) != 20):\n",
    "        if num > 1:\n",
    "            for i in range(2, num):\n",
    "                if (num % i) == 0:\n",
    "                    break\n",
    "            else:\n",
    "                answer.append(num)\n",
    "print(answer)"
   ]
  },
  {
   "cell_type": "markdown",
   "metadata": {},
   "source": [
    "Question 2 :\n",
    "Write a Python program to implement 15 functions of string."
   ]
  },
  {
   "cell_type": "code",
   "execution_count": 2,
   "metadata": {},
   "outputs": [
    {
     "name": "stdout",
     "output_type": "stream",
     "text": [
      "Hey! i am gauri\n",
      "hey! i am gauri\n",
      "vvvvvvvvvvvvvvvvvvvHey! I am Gaurivvvvvvvvvvvvvvvvvvvv\n",
      "2\n",
      "b'Hey! I am Gauri'\n",
      "False\n",
      "Hey! I am Gauri\n",
      "14\n",
      "Hey! I al Gauri\n",
      "hEY! i AM gAURI\n",
      "['Hey! I a', ' Gauri']\n",
      "False\n",
      "False\n",
      "False\n",
      "8\n"
     ]
    }
   ],
   "source": [
    "eg_string = \"Hey! I am Gauri\"\n",
    "print(eg_string.capitalize())\n",
    "print(eg_string.casefold())\n",
    "print(eg_string.center(54, \"v\"))\n",
    "print(eg_string.count(\"a\"))\n",
    "print(eg_string.encode())\n",
    "print(eg_string.endswith(\"t\"))\n",
    "print(eg_string.expandtabs(16))\n",
    "print(eg_string.find(\"i\"))\n",
    "print(eg_string.replace(\"m\", \"l\"))\n",
    "print(eg_string.swapcase())\n",
    "print(eg_string.split(\"m\"))\n",
    "print(eg_string.isspace())\n",
    "print(eg_string.istitle())\n",
    "print(eg_string.isupper())\n",
    "print(eg_string.rindex(\"m\"))"
   ]
  },
  {
   "cell_type": "markdown",
   "metadata": {},
   "source": [
    "Question 3:\n",
    "Write a Python program to check if the given string is a Palindrome or Anagram or None of them.\n",
    "Display the message accordingly to the user."
   ]
  },
  {
   "cell_type": "code",
   "execution_count": 3,
   "metadata": {},
   "outputs": [
    {
     "name": "stdout",
     "output_type": "stream",
     "text": [
      "Enter your string: malyalam\n",
      "malyalam  is not a Palindrome\n",
      "Enter first string:gauri\n",
      "Enter second string:bhute\n",
      "The strings aren't anagrams.\n"
     ]
    }
   ],
   "source": [
    "s = input(\"Enter your string: \")\n",
    "if(s == s[::-1]):\n",
    "    print(s, \" is a Palindrome\")\n",
    "else:\n",
    "    print(s, \" is not a Palindrome\")\n",
    "s1= input(\"Enter first string:\")\n",
    "s2= input(\"Enter second string:\")\n",
    "if(sorted(s1)==sorted(s2)):\n",
    "      print(\"The strings are anagrams.\")\n",
    "else:\n",
    "      print(\"The strings aren't anagrams.\")"
   ]
  },
  {
   "cell_type": "markdown",
   "metadata": {},
   "source": [
    "Question 4:\n",
    "Write a Python's user defined function that removes all the additional characters from the string\n",
    "and converts it finally to lower case using built-in lower(). eg: If the string is \"Dr. Darshan Ingle\n",
    "@AI-ML Trainer\", then the output be \"drdarshaningleaimltrainer\"."
   ]
  },
  {
   "cell_type": "code",
   "execution_count": 4,
   "metadata": {},
   "outputs": [
    {
     "name": "stdout",
     "output_type": "stream",
     "text": [
      "drdarshaningleaimltrainer\n"
     ]
    }
   ],
   "source": [
    "s =  \"# Dr. Darshan Ingle @AI-ML Trainer\"\n",
    "unwanted_chars = ['@', ' ', '#', '$', '%', '&', '*', '.', '-']\n",
    "for i in unwanted_chars:\n",
    "    s = s.replace(i, \"\")\n",
    "print(s.lower())"
   ]
  },
  {
   "cell_type": "code",
   "execution_count": null,
   "metadata": {},
   "outputs": [],
   "source": []
  }
 ],
 "metadata": {
  "kernelspec": {
   "display_name": "Python 3",
   "language": "python",
   "name": "python3"
  },
  "language_info": {
   "codemirror_mode": {
    "name": "ipython",
    "version": 3
   },
   "file_extension": ".py",
   "mimetype": "text/x-python",
   "name": "python",
   "nbconvert_exporter": "python",
   "pygments_lexer": "ipython3",
   "version": "3.7.3"
  }
 },
 "nbformat": 4,
 "nbformat_minor": 2
}
