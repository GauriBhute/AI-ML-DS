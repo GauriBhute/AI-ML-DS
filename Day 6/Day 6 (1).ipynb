{
 "cells": [
  {
   "cell_type": "markdown",
   "metadata": {},
   "source": [
    "Question 1:\n",
    "Assuming that we have some email addresses in the \"username@companyname.com\" format, please write program\n",
    "to print the company name of a given email address. Both user names and company names are composed of letters\n",
    "only.\n",
    "Input Format:\n",
    "The first line of the input contains an email address.\n",
    "Output Format:\n",
    "Print the company name in single line.\n",
    "Example;\n",
    "Input:\n",
    "john@google.com\n",
    "Output:\n",
    "google"
   ]
  },
  {
   "cell_type": "code",
   "execution_count": null,
   "metadata": {},
   "outputs": [],
   "source": [
    "email = input(\"Enter your email id: \")\n",
    "at_position = email.index('@')\n",
    "dot_position = email.index('.')\n",
    "name = ''\n",
    "for i in range(at_position+1, dot_position):\n",
    "    name += email[i]\n",
    "print(name)"
   ]
  },
  {
   "cell_type": "code",
   "execution_count": null,
   "metadata": {},
   "outputs": [],
   "source": [
    "str = input(\"Enter comma separated integers: \")\n",
    "print(str)\n",
    "\n",
    "# conver to the list\n",
    "list = str.split (\",\")\n",
    "print(\"Sorted list: \", sorted(list))"
   ]
  },
  {
   "cell_type": "markdown",
   "metadata": {},
   "source": [
    "Question 3:\n",
    "Create your own Jupyter Notebook for Sets.\n",
    "Reference link: https://www.w3schools.com/python/python_sets.asp"
   ]
  },
  {
   "cell_type": "code",
   "execution_count": null,
   "metadata": {},
   "outputs": [],
   "source": [
    "states = {'Rajasthan', 'Gujarat', 'Maharashtra', 'Gujarat'}\n",
    "states.add('Karnataka')\n",
    "states.update(['Delhi', 'Kerla', 'Punjab'])\n",
    "for i in states:\n",
    "    print(i)\n",
    "print('Delhi' in states)\n",
    "states.remove('Delhi')\n",
    "states.discard('Assam')\n",
    "print(states)\n",
    "states2 = {'Tamil Nadu', 'Bihar', 'Himalchal Pradesh'}\n",
    "states.union(states2)\n",
    "cities = set(('Mumbai', 'NYC', 'Kolkatta'))\n",
    "print(cities)"
   ]
  },
  {
   "cell_type": "markdown",
   "metadata": {},
   "source": [
    "Question 4:\n",
    "Given a list of n-1 numbers ranging from 1 to n, your task is to find the missing number. There are no duplicates.\n",
    "Input Format:\n",
    "The first line contains n-1 numbers with each number separated by a space.\n",
    "Output Format:\n",
    "Print the missing number\n",
    "Example:\n",
    "Input:1 2 4 6 3 7 8\n",
    "Output:5\n",
    "Explanation:\n",
    "In the above list of numbers 5 is missing and hence 5 is the input"
   ]
  },
  {
   "cell_type": "code",
   "execution_count": 10,
   "metadata": {},
   "outputs": [
    {
     "name": "stdout",
     "output_type": "stream",
     "text": [
      "Give your list1 2 4 6 3 7 8\n",
      "The missing number is  5\n"
     ]
    }
   ],
   "source": [
    "input_list = input(\"Give your list\")\n",
    "l_final = input_list.split(' ')\n",
    "l1 = [int(i) for i in l_final]\n",
    "for i in range(1, len(l1) +2):\n",
    "    if(l1.count(i)):\n",
    "        continue\n",
    "    else:\n",
    "        print(\"The missing number is \", i)"
   ]
  },
  {
   "cell_type": "markdown",
   "metadata": {},
   "source": [
    "Question 5:\n",
    "With a given list L, write a program to print this list L after removing all duplicate values with original order reserved.\n",
    "Example:\n",
    "If the input list is\n",
    "12 24 35 24 88 120 155 88 120 155\n",
    "Then the output should be\n",
    "12 24 35 88 120 155\n",
    "Explanation:\n",
    "Third, seventh and ninth element of the list L has been removed because it was already present.\n",
    "Input Format:\n",
    "In one line take the elements of the list L with each element separated by a space.\n",
    "Output Format:\n",
    "Print the elements of the modified list in one line with each element separated by a space.\n",
    "Example:\n",
    "Input: 12 24 35 24\n",
    "Output:12 24 35"
   ]
  },
  {
   "cell_type": "code",
   "execution_count": 11,
   "metadata": {},
   "outputs": [
    {
     "name": "stdout",
     "output_type": "stream",
     "text": [
      "Give your numbers: 12 32 43 32 54 234 43\n",
      "{32, 234, 43, 12, 54}\n"
     ]
    }
   ],
   "source": [
    "input_list = input(\"Give your numbers: \")\n",
    "l = input_list.split(' ')\n",
    "l1 = [int(i) for i in l]\n",
    "s = set(l1)\n",
    "print(s)"
   ]
  },
  {
   "cell_type": "code",
   "execution_count": null,
   "metadata": {},
   "outputs": [],
   "source": []
  }
 ],
 "metadata": {
  "kernelspec": {
   "display_name": "Python 3",
   "language": "python",
   "name": "python3"
  },
  "language_info": {
   "codemirror_mode": {
    "name": "ipython",
    "version": 3
   },
   "file_extension": ".py",
   "mimetype": "text/x-python",
   "name": "python",
   "nbconvert_exporter": "python",
   "pygments_lexer": "ipython3",
   "version": "3.7.3"
  }
 },
 "nbformat": 4,
 "nbformat_minor": 2
}
